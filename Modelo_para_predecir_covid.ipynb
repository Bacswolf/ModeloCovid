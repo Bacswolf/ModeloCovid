{
  "nbformat": 4,
  "nbformat_minor": 0,
  "metadata": {
    "colab": {
      "provenance": [],
      "gpuType": "T4",
      "authorship_tag": "ABX9TyOEklc0yZAlNjbjKEX6m3gm",
      "include_colab_link": true
    },
    "kernelspec": {
      "name": "python3",
      "display_name": "Python 3"
    },
    "language_info": {
      "name": "python"
    },
    "accelerator": "GPU"
  },
  "cells": [
    {
      "cell_type": "markdown",
      "metadata": {
        "id": "view-in-github",
        "colab_type": "text"
      },
      "source": [
        "<a href=\"https://colab.research.google.com/github/BrandonACS/ModeloCovid/blob/main/Modelo_para_predecir_covid.ipynb\" target=\"_parent\"><img src=\"https://colab.research.google.com/assets/colab-badge.svg\" alt=\"Open In Colab\"/></a>"
      ]
    },
    {
      "cell_type": "code",
      "execution_count": 2,
      "metadata": {
        "colab": {
          "base_uri": "https://localhost:8080/"
        },
        "id": "d-aZ5Pt9Poqe",
        "outputId": "904a58d3-2d40-4311-c5f5-2471e8c67831"
      },
      "outputs": [
        {
          "output_type": "stream",
          "name": "stdout",
          "text": [
            "fatal: destination path 'rapidsai-csp-utils' already exists and is not an empty directory.\n",
            "Traceback (most recent call last):\n",
            "  File \"/content/rapidsai-csp-utils/colab/pip-install.py\", line 28, in <module>\n",
            "    if ('K80' not in gpu_name):\n",
            "TypeError: a bytes-like object is required, not 'str'\n"
          ]
        }
      ],
      "source": [
        "# This get the RAPIDS-Colab install files and test check your GPU.  Run this and the next cell only.\n",
        "# Please read the output of this cell.  If your Colab Instance is not RAPIDS compatible, it will warn you and give you remediation steps.\n",
        "!git clone https://github.com/rapidsai/rapidsai-csp-utils.git\n",
        "!python rapidsai-csp-utils/colab/pip-install.py"
      ]
    },
    {
      "cell_type": "code",
      "source": [
        "!wget https://datosabiertos.salud.gob.mx/gobmx/salud/datos_abiertos/datos_abiertos_covid19.zip"
      ],
      "metadata": {
        "colab": {
          "base_uri": "https://localhost:8080/"
        },
        "id": "HYGTn_HERF2m",
        "outputId": "58b4bfa3-d019-4709-fe6f-d92884085c09"
      },
      "execution_count": 3,
      "outputs": [
        {
          "output_type": "stream",
          "name": "stdout",
          "text": [
            "--2023-11-09 19:00:50--  https://datosabiertos.salud.gob.mx/gobmx/salud/datos_abiertos/datos_abiertos_covid19.zip\n",
            "Resolving datosabiertos.salud.gob.mx (datosabiertos.salud.gob.mx)... 201.98.60.146\n",
            "Connecting to datosabiertos.salud.gob.mx (datosabiertos.salud.gob.mx)|201.98.60.146|:443... connected.\n",
            "HTTP request sent, awaiting response... 200 OK\n",
            "Length: 18045440 (17M) [application/x-zip-compressed]\n",
            "Saving to: ‘datos_abiertos_covid19.zip.1’\n",
            "\n",
            "datos_abiertos_covi 100%[===================>]  17.21M  7.60MB/s    in 2.3s    \n",
            "\n",
            "2023-11-09 19:00:53 (7.60 MB/s) - ‘datos_abiertos_covid19.zip.1’ saved [18045440/18045440]\n",
            "\n"
          ]
        }
      ]
    },
    {
      "cell_type": "code",
      "source": [
        "!unzip /content/datos_abiertos_covid19.zip"
      ],
      "metadata": {
        "colab": {
          "base_uri": "https://localhost:8080/"
        },
        "id": "EG-GSSORTvt2",
        "outputId": "1738b3c5-eee8-4ea3-924b-f6697f5002a0"
      },
      "execution_count": 4,
      "outputs": [
        {
          "output_type": "stream",
          "name": "stdout",
          "text": [
            "Archive:  /content/datos_abiertos_covid19.zip\n",
            "replace COVID19MEXICO.csv? [y]es, [n]o, [A]ll, [N]one, [r]ename: "
          ]
        }
      ]
    },
    {
      "cell_type": "code",
      "source": [
        "import numpy as np\n",
        "import pandas as pd\n",
        "\n",
        "\n",
        "data=pd.read_csv('COVID19MEXICO.csv',low_memory=False)\n",
        "data.info()"
      ],
      "metadata": {
        "colab": {
          "base_uri": "https://localhost:8080/"
        },
        "id": "p4MUDOR1T0Hn",
        "outputId": "6b3ecd6e-6939-4228-f763-976467dfa5b5"
      },
      "execution_count": 5,
      "outputs": [
        {
          "output_type": "stream",
          "name": "stdout",
          "text": [
            "<class 'pandas.core.frame.DataFrame'>\n",
            "RangeIndex: 1186694 entries, 0 to 1186693\n",
            "Data columns (total 40 columns):\n",
            " #   Column                 Non-Null Count    Dtype \n",
            "---  ------                 --------------    ----- \n",
            " 0   FECHA_ACTUALIZACION    1186694 non-null  object\n",
            " 1   ID_REGISTRO            1186694 non-null  object\n",
            " 2   ORIGEN                 1186694 non-null  int64 \n",
            " 3   SECTOR                 1186694 non-null  int64 \n",
            " 4   ENTIDAD_UM             1186694 non-null  int64 \n",
            " 5   SEXO                   1186694 non-null  int64 \n",
            " 6   ENTIDAD_NAC            1186694 non-null  int64 \n",
            " 7   ENTIDAD_RES            1186694 non-null  int64 \n",
            " 8   MUNICIPIO_RES          1186694 non-null  int64 \n",
            " 9   TIPO_PACIENTE          1186694 non-null  int64 \n",
            " 10  FECHA_INGRESO          1186694 non-null  object\n",
            " 11  FECHA_SINTOMAS         1186694 non-null  object\n",
            " 12  FECHA_DEF              1186694 non-null  object\n",
            " 13  INTUBADO               1186694 non-null  int64 \n",
            " 14  NEUMONIA               1186694 non-null  int64 \n",
            " 15  EDAD                   1186694 non-null  int64 \n",
            " 16  NACIONALIDAD           1186694 non-null  int64 \n",
            " 17  EMBARAZO               1186694 non-null  int64 \n",
            " 18  HABLA_LENGUA_INDIG     1186694 non-null  int64 \n",
            " 19  INDIGENA               1186694 non-null  int64 \n",
            " 20  DIABETES               1186694 non-null  int64 \n",
            " 21  EPOC                   1186694 non-null  int64 \n",
            " 22  ASMA                   1186694 non-null  int64 \n",
            " 23  INMUSUPR               1186694 non-null  int64 \n",
            " 24  HIPERTENSION           1186694 non-null  int64 \n",
            " 25  OTRA_COM               1186694 non-null  int64 \n",
            " 26  CARDIOVASCULAR         1186694 non-null  int64 \n",
            " 27  OBESIDAD               1186694 non-null  int64 \n",
            " 28  RENAL_CRONICA          1186694 non-null  int64 \n",
            " 29  TABAQUISMO             1186694 non-null  int64 \n",
            " 30  OTRO_CASO              1186694 non-null  int64 \n",
            " 31  TOMA_MUESTRA_LAB       1186694 non-null  int64 \n",
            " 32  RESULTADO_LAB          1186694 non-null  int64 \n",
            " 33  TOMA_MUESTRA_ANTIGENO  1186694 non-null  int64 \n",
            " 34  RESULTADO_ANTIGENO     1186694 non-null  int64 \n",
            " 35  CLASIFICACION_FINAL    1186694 non-null  int64 \n",
            " 36  MIGRANTE               1186694 non-null  int64 \n",
            " 37  PAIS_NACIONALIDAD      1186694 non-null  object\n",
            " 38  PAIS_ORIGEN            1186694 non-null  object\n",
            " 39  UCI                    1186694 non-null  int64 \n",
            "dtypes: int64(33), object(7)\n",
            "memory usage: 362.2+ MB\n"
          ]
        }
      ]
    },
    {
      "cell_type": "code",
      "source": [
        "df=data\n",
        "\n",
        "df = df.drop(columns=['ID_REGISTRO','ORIGEN','SECTOR','ENTIDAD_UM','SEXO','ENTIDAD_NAC','ENTIDAD_RES','MUNICIPIO_RES','NACIONALIDAD','HABLA_LENGUA_INDIG','INDIGENA','MIGRANTE','PAIS_NACIONALIDAD','PAIS_ORIGEN'])\n",
        "df.columns\n",
        "\n",
        "df['FECHA_ACTUALIZACION']=pd.to_datetime(df['FECHA_ACTUALIZACION'])\n",
        "df['FECHA_INGRESO']=pd.to_datetime(df['FECHA_INGRESO'])\n",
        "df['FECHA_SINTOMAS']=pd.to_datetime(df['FECHA_SINTOMAS'])\n",
        "df['FECHA_DEF']=pd.to_datetime(df['FECHA_DEF'],errors='coerce')\n",
        "\n",
        "\n",
        "for col in ['TIPO_PACIENTE']:\n",
        "  df[col]=df[col].astype(str)\n",
        "\n",
        "\n",
        "from sklearn.preprocessing import LabelEncoder\n",
        "\n",
        "le= LabelEncoder()\n",
        "\n",
        "\n",
        "for col in ['TIPO_PACIENTE']:\n",
        "  df[col]=le.fit_transform(df[col])\n",
        "# crear caracteristicas apartir de las fechas\n",
        "\n",
        "df['DIAS_DEFUNCION']=(df['FECHA_ACTUALIZACION']- df['FECHA_DEF']).dt.days\n",
        "df['DIAS_HOSPITALIZACION']=(df['FECHA_ACTUALIZACION']- df['FECHA_INGRESO']).dt.days\n",
        "df['DIAS_SINTOMAS']=(df['FECHA_ACTUALIZACION']- df['FECHA_SINTOMAS']).dt.days\n",
        "\n",
        "\n",
        "# Red NUERONAL REVISAR ESTO\n",
        "df['DIAS_DEFUNCION'] = df['DIAS_DEFUNCION'].apply(lambda x: 0 if x < 0 else x)\n",
        "\n",
        "\n",
        "\n",
        "df = df.drop(columns=['FECHA_ACTUALIZACION', 'FECHA_INGRESO', 'FECHA_SINTOMAS', 'FECHA_DEF','DIAS_DEFUNCION'])\n",
        "\n",
        "X=df.drop(columns=['CLASIFICACION_FINAL'])\n",
        "y=df['CLASIFICACION_FINAL']"
      ],
      "metadata": {
        "id": "MXsysA1xUNHj"
      },
      "execution_count": 6,
      "outputs": []
    },
    {
      "cell_type": "code",
      "source": [
        "from sklearn.model_selection import train_test_split\n",
        "\n",
        "X_train, X_test, y_train, y_test = train_test_split(X, y, test_size=0.2, random_state=42)"
      ],
      "metadata": {
        "id": "OCs-VbwakQK8"
      },
      "execution_count": 7,
      "outputs": []
    },
    {
      "cell_type": "code",
      "source": [
        "df.info()"
      ],
      "metadata": {
        "colab": {
          "base_uri": "https://localhost:8080/"
        },
        "id": "U-IGcM0YkR6x",
        "outputId": "ad1a387e-2357-41ce-a553-32f24ff18941"
      },
      "execution_count": 8,
      "outputs": [
        {
          "output_type": "stream",
          "name": "stdout",
          "text": [
            "<class 'pandas.core.frame.DataFrame'>\n",
            "RangeIndex: 1186694 entries, 0 to 1186693\n",
            "Data columns (total 24 columns):\n",
            " #   Column                 Non-Null Count    Dtype\n",
            "---  ------                 --------------    -----\n",
            " 0   TIPO_PACIENTE          1186694 non-null  int64\n",
            " 1   INTUBADO               1186694 non-null  int64\n",
            " 2   NEUMONIA               1186694 non-null  int64\n",
            " 3   EDAD                   1186694 non-null  int64\n",
            " 4   EMBARAZO               1186694 non-null  int64\n",
            " 5   DIABETES               1186694 non-null  int64\n",
            " 6   EPOC                   1186694 non-null  int64\n",
            " 7   ASMA                   1186694 non-null  int64\n",
            " 8   INMUSUPR               1186694 non-null  int64\n",
            " 9   HIPERTENSION           1186694 non-null  int64\n",
            " 10  OTRA_COM               1186694 non-null  int64\n",
            " 11  CARDIOVASCULAR         1186694 non-null  int64\n",
            " 12  OBESIDAD               1186694 non-null  int64\n",
            " 13  RENAL_CRONICA          1186694 non-null  int64\n",
            " 14  TABAQUISMO             1186694 non-null  int64\n",
            " 15  OTRO_CASO              1186694 non-null  int64\n",
            " 16  TOMA_MUESTRA_LAB       1186694 non-null  int64\n",
            " 17  RESULTADO_LAB          1186694 non-null  int64\n",
            " 18  TOMA_MUESTRA_ANTIGENO  1186694 non-null  int64\n",
            " 19  RESULTADO_ANTIGENO     1186694 non-null  int64\n",
            " 20  CLASIFICACION_FINAL    1186694 non-null  int64\n",
            " 21  UCI                    1186694 non-null  int64\n",
            " 22  DIAS_HOSPITALIZACION   1186694 non-null  int64\n",
            " 23  DIAS_SINTOMAS          1186694 non-null  int64\n",
            "dtypes: int64(24)\n",
            "memory usage: 217.3 MB\n"
          ]
        }
      ]
    },
    {
      "cell_type": "code",
      "source": [
        "import cuml\n",
        "from cuml.ensemble import RandomForestClassifier\n",
        "from cuml.neighbors import KNeighborsClassifier\n",
        "from sklearn.metrics import classification_report\n",
        "\n",
        "X_train=X_train.astype('float32')\n",
        "y_train=y_train.astype('float32')\n",
        "\n",
        "cuml_RFC=RandomForestClassifier(random_state=42)\n",
        "cuml_KNC=KNeighborsClassifier(n_neighbors=10)\n",
        "\n",
        "classifiers=[('Ramdom Forest',cuml_RFC),('KNN',cuml_KNC)]\n",
        "\n",
        "\n",
        "for name,clf in classifiers:\n",
        "  clf.fit(X_train,y_train)\n",
        "  y_pred=clf.predict(X_test)\n",
        "  print(f'Modelo resultados')\n",
        "  print(classification_report(y_test,y_pred))"
      ],
      "metadata": {
        "colab": {
          "base_uri": "https://localhost:8080/"
        },
        "id": "QGF3IAquoH7O",
        "outputId": "5f17ed9a-5231-43a3-8e70-c5de5a4bb36d"
      },
      "execution_count": 9,
      "outputs": [
        {
          "output_type": "stream",
          "name": "stderr",
          "text": [
            "/usr/local/lib/python3.10/dist-packages/cuml/internals/api_decorators.py:344: UserWarning: For reproducible results in Random Forest Classifier or for almost reproducible results in Random Forest Regressor, n_streams=1 is recommended. If n_streams is > 1, results may vary due to stream/thread timing differences, even when random_state is set\n",
            "  return func(**kwargs)\n"
          ]
        },
        {
          "output_type": "stream",
          "name": "stdout",
          "text": [
            "Modelo resultados\n"
          ]
        },
        {
          "output_type": "stream",
          "name": "stderr",
          "text": [
            "/usr/local/lib/python3.10/dist-packages/sklearn/metrics/_classification.py:1344: UndefinedMetricWarning: Precision and F-score are ill-defined and being set to 0.0 in labels with no predicted samples. Use `zero_division` parameter to control this behavior.\n",
            "  _warn_prf(average, modifier, msg_start, len(result))\n",
            "/usr/local/lib/python3.10/dist-packages/sklearn/metrics/_classification.py:1344: UndefinedMetricWarning: Precision and F-score are ill-defined and being set to 0.0 in labels with no predicted samples. Use `zero_division` parameter to control this behavior.\n",
            "  _warn_prf(average, modifier, msg_start, len(result))\n",
            "/usr/local/lib/python3.10/dist-packages/sklearn/metrics/_classification.py:1344: UndefinedMetricWarning: Precision and F-score are ill-defined and being set to 0.0 in labels with no predicted samples. Use `zero_division` parameter to control this behavior.\n",
            "  _warn_prf(average, modifier, msg_start, len(result))\n"
          ]
        },
        {
          "output_type": "stream",
          "name": "stdout",
          "text": [
            "              precision    recall  f1-score   support\n",
            "\n",
            "           1       0.92      0.01      0.03      1673\n",
            "           2       0.00      0.00      0.00         5\n",
            "           3       1.00      1.00      1.00     84200\n",
            "           4       0.00      0.00      0.00        35\n",
            "           5       0.60      0.25      0.35       396\n",
            "           6       0.94      0.97      0.96     12816\n",
            "           7       0.99      1.00      0.99    138214\n",
            "\n",
            "    accuracy                           0.99    237339\n",
            "   macro avg       0.64      0.46      0.48    237339\n",
            "weighted avg       0.99      0.99      0.99    237339\n",
            "\n",
            "Modelo resultados\n",
            "              precision    recall  f1-score   support\n",
            "\n",
            "           1       0.73      0.01      0.03      1673\n",
            "           2       1.00      0.20      0.33         5\n",
            "           3       0.95      0.85      0.90     84200\n",
            "           4       0.00      0.00      0.00        35\n",
            "           5       0.00      0.00      0.00       396\n",
            "           6       0.96      0.92      0.94     12816\n",
            "           7       0.90      0.97      0.93    138214\n",
            "\n",
            "    accuracy                           0.92    237339\n",
            "   macro avg       0.65      0.42      0.45    237339\n",
            "weighted avg       0.92      0.92      0.91    237339\n",
            "\n"
          ]
        },
        {
          "output_type": "stream",
          "name": "stderr",
          "text": [
            "/usr/local/lib/python3.10/dist-packages/sklearn/metrics/_classification.py:1344: UndefinedMetricWarning: Precision and F-score are ill-defined and being set to 0.0 in labels with no predicted samples. Use `zero_division` parameter to control this behavior.\n",
            "  _warn_prf(average, modifier, msg_start, len(result))\n",
            "/usr/local/lib/python3.10/dist-packages/sklearn/metrics/_classification.py:1344: UndefinedMetricWarning: Precision and F-score are ill-defined and being set to 0.0 in labels with no predicted samples. Use `zero_division` parameter to control this behavior.\n",
            "  _warn_prf(average, modifier, msg_start, len(result))\n",
            "/usr/local/lib/python3.10/dist-packages/sklearn/metrics/_classification.py:1344: UndefinedMetricWarning: Precision and F-score are ill-defined and being set to 0.0 in labels with no predicted samples. Use `zero_division` parameter to control this behavior.\n",
            "  _warn_prf(average, modifier, msg_start, len(result))\n"
          ]
        }
      ]
    },
    {
      "cell_type": "code",
      "source": [
        "import locale\n",
        "def getpreferredencoding(do_setlocale = True):\n",
        "    return \"UTF-8\"\n",
        "locale.getpreferredencoding = getpreferredencoding"
      ],
      "metadata": {
        "id": "WUCuIrO20gfz"
      },
      "execution_count": 10,
      "outputs": []
    },
    {
      "cell_type": "code",
      "source": [
        "!pip install gradio"
      ],
      "metadata": {
        "colab": {
          "base_uri": "https://localhost:8080/"
        },
        "id": "cwVl4af60oyG",
        "outputId": "83131966-be33-459f-9e36-2a3d013c3afc"
      },
      "execution_count": 11,
      "outputs": [
        {
          "output_type": "stream",
          "name": "stdout",
          "text": [
            "Requirement already satisfied: gradio in /usr/local/lib/python3.10/dist-packages (4.1.2)\n",
            "Requirement already satisfied: aiofiles<24.0,>=22.0 in /usr/local/lib/python3.10/dist-packages (from gradio) (23.2.1)\n",
            "Requirement already satisfied: altair<6.0,>=4.2.0 in /usr/local/lib/python3.10/dist-packages (from gradio) (4.2.2)\n",
            "Requirement already satisfied: fastapi in /usr/local/lib/python3.10/dist-packages (from gradio) (0.104.1)\n",
            "Requirement already satisfied: ffmpy in /usr/local/lib/python3.10/dist-packages (from gradio) (0.3.1)\n",
            "Requirement already satisfied: gradio-client==0.7.0 in /usr/local/lib/python3.10/dist-packages (from gradio) (0.7.0)\n",
            "Requirement already satisfied: httpx in /usr/local/lib/python3.10/dist-packages (from gradio) (0.25.1)\n",
            "Requirement already satisfied: huggingface-hub>=0.14.0 in /usr/local/lib/python3.10/dist-packages (from gradio) (0.19.0)\n",
            "Requirement already satisfied: importlib-resources<7.0,>=1.3 in /usr/local/lib/python3.10/dist-packages (from gradio) (6.1.1)\n",
            "Requirement already satisfied: jinja2<4.0 in /usr/local/lib/python3.10/dist-packages (from gradio) (3.1.2)\n",
            "Requirement already satisfied: markupsafe~=2.0 in /usr/local/lib/python3.10/dist-packages (from gradio) (2.1.3)\n",
            "Requirement already satisfied: matplotlib~=3.0 in /usr/local/lib/python3.10/dist-packages (from gradio) (3.7.1)\n",
            "Requirement already satisfied: numpy~=1.0 in /usr/local/lib/python3.10/dist-packages (from gradio) (1.23.5)\n",
            "Requirement already satisfied: orjson~=3.0 in /usr/local/lib/python3.10/dist-packages (from gradio) (3.9.10)\n",
            "Requirement already satisfied: packaging in /usr/local/lib/python3.10/dist-packages (from gradio) (23.2)\n",
            "Requirement already satisfied: pandas<3.0,>=1.0 in /usr/local/lib/python3.10/dist-packages (from gradio) (1.5.3)\n",
            "Requirement already satisfied: pillow<11.0,>=8.0 in /usr/local/lib/python3.10/dist-packages (from gradio) (9.4.0)\n",
            "Requirement already satisfied: pydantic>=2.0 in /usr/local/lib/python3.10/dist-packages (from gradio) (2.4.2)\n",
            "Requirement already satisfied: pydub in /usr/local/lib/python3.10/dist-packages (from gradio) (0.25.1)\n",
            "Requirement already satisfied: python-multipart in /usr/local/lib/python3.10/dist-packages (from gradio) (0.0.6)\n",
            "Requirement already satisfied: pyyaml<7.0,>=5.0 in /usr/local/lib/python3.10/dist-packages (from gradio) (6.0.1)\n",
            "Requirement already satisfied: requests~=2.0 in /usr/local/lib/python3.10/dist-packages (from gradio) (2.31.0)\n",
            "Requirement already satisfied: semantic-version~=2.0 in /usr/local/lib/python3.10/dist-packages (from gradio) (2.10.0)\n",
            "Requirement already satisfied: tomlkit==0.12.0 in /usr/local/lib/python3.10/dist-packages (from gradio) (0.12.0)\n",
            "Requirement already satisfied: typer[all]<1.0,>=0.9 in /usr/local/lib/python3.10/dist-packages (from gradio) (0.9.0)\n",
            "Requirement already satisfied: typing-extensions~=4.0 in /usr/local/lib/python3.10/dist-packages (from gradio) (4.8.0)\n",
            "Requirement already satisfied: uvicorn>=0.14.0 in /usr/local/lib/python3.10/dist-packages (from gradio) (0.24.0.post1)\n",
            "Requirement already satisfied: websockets<12.0,>=10.0 in /usr/local/lib/python3.10/dist-packages (from gradio) (11.0.3)\n",
            "Requirement already satisfied: fsspec in /usr/local/lib/python3.10/dist-packages (from gradio-client==0.7.0->gradio) (2023.6.0)\n",
            "Requirement already satisfied: entrypoints in /usr/local/lib/python3.10/dist-packages (from altair<6.0,>=4.2.0->gradio) (0.4)\n",
            "Requirement already satisfied: jsonschema>=3.0 in /usr/local/lib/python3.10/dist-packages (from altair<6.0,>=4.2.0->gradio) (4.19.2)\n",
            "Requirement already satisfied: toolz in /usr/local/lib/python3.10/dist-packages (from altair<6.0,>=4.2.0->gradio) (0.12.0)\n",
            "Requirement already satisfied: filelock in /usr/local/lib/python3.10/dist-packages (from huggingface-hub>=0.14.0->gradio) (3.13.1)\n",
            "Requirement already satisfied: tqdm>=4.42.1 in /usr/local/lib/python3.10/dist-packages (from huggingface-hub>=0.14.0->gradio) (4.66.1)\n",
            "Requirement already satisfied: contourpy>=1.0.1 in /usr/local/lib/python3.10/dist-packages (from matplotlib~=3.0->gradio) (1.2.0)\n",
            "Requirement already satisfied: cycler>=0.10 in /usr/local/lib/python3.10/dist-packages (from matplotlib~=3.0->gradio) (0.12.1)\n",
            "Requirement already satisfied: fonttools>=4.22.0 in /usr/local/lib/python3.10/dist-packages (from matplotlib~=3.0->gradio) (4.44.0)\n",
            "Requirement already satisfied: kiwisolver>=1.0.1 in /usr/local/lib/python3.10/dist-packages (from matplotlib~=3.0->gradio) (1.4.5)\n",
            "Requirement already satisfied: pyparsing>=2.3.1 in /usr/local/lib/python3.10/dist-packages (from matplotlib~=3.0->gradio) (3.1.1)\n",
            "Requirement already satisfied: python-dateutil>=2.7 in /usr/local/lib/python3.10/dist-packages (from matplotlib~=3.0->gradio) (2.8.2)\n",
            "Requirement already satisfied: pytz>=2020.1 in /usr/local/lib/python3.10/dist-packages (from pandas<3.0,>=1.0->gradio) (2023.3.post1)\n",
            "Requirement already satisfied: annotated-types>=0.4.0 in /usr/local/lib/python3.10/dist-packages (from pydantic>=2.0->gradio) (0.6.0)\n",
            "Requirement already satisfied: pydantic-core==2.10.1 in /usr/local/lib/python3.10/dist-packages (from pydantic>=2.0->gradio) (2.10.1)\n",
            "Requirement already satisfied: charset-normalizer<4,>=2 in /usr/local/lib/python3.10/dist-packages (from requests~=2.0->gradio) (3.3.2)\n",
            "Requirement already satisfied: idna<4,>=2.5 in /usr/local/lib/python3.10/dist-packages (from requests~=2.0->gradio) (3.4)\n",
            "Requirement already satisfied: urllib3<3,>=1.21.1 in /usr/local/lib/python3.10/dist-packages (from requests~=2.0->gradio) (2.0.7)\n",
            "Requirement already satisfied: certifi>=2017.4.17 in /usr/local/lib/python3.10/dist-packages (from requests~=2.0->gradio) (2023.7.22)\n",
            "Requirement already satisfied: click<9.0.0,>=7.1.1 in /usr/local/lib/python3.10/dist-packages (from typer[all]<1.0,>=0.9->gradio) (8.1.7)\n",
            "Requirement already satisfied: colorama<0.5.0,>=0.4.3 in /usr/local/lib/python3.10/dist-packages (from typer[all]<1.0,>=0.9->gradio) (0.4.6)\n",
            "Requirement already satisfied: shellingham<2.0.0,>=1.3.0 in /usr/local/lib/python3.10/dist-packages (from typer[all]<1.0,>=0.9->gradio) (1.5.4)\n",
            "Requirement already satisfied: rich<14.0.0,>=10.11.0 in /usr/local/lib/python3.10/dist-packages (from typer[all]<1.0,>=0.9->gradio) (13.6.0)\n",
            "Requirement already satisfied: h11>=0.8 in /usr/local/lib/python3.10/dist-packages (from uvicorn>=0.14.0->gradio) (0.14.0)\n",
            "Requirement already satisfied: anyio<4.0.0,>=3.7.1 in /usr/local/lib/python3.10/dist-packages (from fastapi->gradio) (3.7.1)\n",
            "Requirement already satisfied: starlette<0.28.0,>=0.27.0 in /usr/local/lib/python3.10/dist-packages (from fastapi->gradio) (0.27.0)\n",
            "Requirement already satisfied: httpcore in /usr/local/lib/python3.10/dist-packages (from httpx->gradio) (1.0.1)\n",
            "Requirement already satisfied: sniffio in /usr/local/lib/python3.10/dist-packages (from httpx->gradio) (1.3.0)\n",
            "Requirement already satisfied: exceptiongroup in /usr/local/lib/python3.10/dist-packages (from anyio<4.0.0,>=3.7.1->fastapi->gradio) (1.1.3)\n",
            "Requirement already satisfied: attrs>=22.2.0 in /usr/local/lib/python3.10/dist-packages (from jsonschema>=3.0->altair<6.0,>=4.2.0->gradio) (23.1.0)\n",
            "Requirement already satisfied: jsonschema-specifications>=2023.03.6 in /usr/local/lib/python3.10/dist-packages (from jsonschema>=3.0->altair<6.0,>=4.2.0->gradio) (2023.7.1)\n",
            "Requirement already satisfied: referencing>=0.28.4 in /usr/local/lib/python3.10/dist-packages (from jsonschema>=3.0->altair<6.0,>=4.2.0->gradio) (0.30.2)\n",
            "Requirement already satisfied: rpds-py>=0.7.1 in /usr/local/lib/python3.10/dist-packages (from jsonschema>=3.0->altair<6.0,>=4.2.0->gradio) (0.12.0)\n",
            "Requirement already satisfied: six>=1.5 in /usr/local/lib/python3.10/dist-packages (from python-dateutil>=2.7->matplotlib~=3.0->gradio) (1.16.0)\n",
            "Requirement already satisfied: markdown-it-py>=2.2.0 in /usr/local/lib/python3.10/dist-packages (from rich<14.0.0,>=10.11.0->typer[all]<1.0,>=0.9->gradio) (3.0.0)\n",
            "Requirement already satisfied: pygments<3.0.0,>=2.13.0 in /usr/local/lib/python3.10/dist-packages (from rich<14.0.0,>=10.11.0->typer[all]<1.0,>=0.9->gradio) (2.16.1)\n",
            "Requirement already satisfied: mdurl~=0.1 in /usr/local/lib/python3.10/dist-packages (from markdown-it-py>=2.2.0->rich<14.0.0,>=10.11.0->typer[all]<1.0,>=0.9->gradio) (0.1.2)\n"
          ]
        }
      ]
    },
    {
      "cell_type": "code",
      "source": [
        "import gradio as gr\n",
        "import pandas as pd\n",
        "import numpy as np\n",
        "\n",
        "\n",
        "def opcions(pregunta):\n",
        "  if(pregunta == 'SI'):\n",
        "    pregunta = 0\n",
        "  elif(pregunta == 'NO'):\n",
        "    pregunta = 1\n",
        "  elif(pregunta == 'NO APLICA'):\n",
        "    pregunta = 97\n",
        "  elif(pregunta == 'SE IGNORA'):\n",
        "    pregunta = 98\n",
        "  elif(pregunta == 'NO ESPECIFICADO'):\n",
        "    pregunta = 99\n",
        "  return pregunta\n",
        "\n",
        "def predict(tipo_paciente, intubado, neumonia, edad, embarazo,\n",
        "             diabetes, epoc, asma, inmusupr,\n",
        "            hipertension, otra_com, cardiovascular, obesidad,\n",
        "            renal_cronica, tabaquismo, otro_caso, toma_muestra_lab,\n",
        "            resultado_lab, toma_muestra_antigeno, resultado_antigeno,\n",
        "           uci, dias_hospitalizacion, dias_sintomas):\n",
        "    if(tipo_paciente == 'AMBULATORIO'):\n",
        "      tipo_paciente = 0\n",
        "    elif(tipo_paciente == 'HOSPITALIZADO'):\n",
        "      tipo_paciente = 1\n",
        "    if(resultado_lab == 'POSITIVO A SARS-COV-2'):\n",
        "      resultado_lab = 1\n",
        "    elif(resultado_lab == 'NEGATIVO A SARS-COV-2'):\n",
        "      resultado_lab = 2\n",
        "    elif(resultado_lab == 'NO RESULTADO PENDIENTE'):\n",
        "      resultado_lab = 3\n",
        "    elif(resultado_lab == 'RESULTADO NO ADECUADO'):\n",
        "      resultado_lab = 4\n",
        "    elif(resultado_lab ==  'NO APLICA'):\n",
        "      resultado_lab = 97\n",
        "    if(resultado_antigeno == 'POSITIVO A SARS-COV-2'):\n",
        "      resultado_antigeno = 1\n",
        "    elif(resultado_antigeno == 'NEGATIVO A SARS-COV-2'):\n",
        "      resultado_antigeno = 2\n",
        "    elif(resultado_antigeno ==  'NO APLICA'):\n",
        "      resultado_antigeno = 97\n",
        "    intubado = opcions(intubado)\n",
        "    neumonia = opcions(neumonia)\n",
        "    embarazo = opcions(embarazo)\n",
        "    epoc = opcions(epoc)\n",
        "    asma = opcions(asma)\n",
        "    inmusupr = opcions(inmusupr)\n",
        "    hipertension = opcions(hipertension)\n",
        "    otra_com = opcions(otra_com)\n",
        "    cardiovascular = opcions(cardiovascular)\n",
        "    obesidad = opcions(obesidad)\n",
        "    renal_cronica = opcions(renal_cronica)\n",
        "    tabaquismo = opcions(tabaquismo)\n",
        "    otro_caso = opcions(otro_caso)\n",
        "    toma_muestra_lab = opcions(toma_muestra_lab)\n",
        "    toma_muestra_antigeno = opcions(toma_muestra_antigeno)\n",
        "    uci = opcions(uci)\n",
        "    diabetes = opcions(diabetes)\n",
        "    # Crea un DataFrame con los valores de entrada\n",
        "    input_data = pd.DataFrame([[ tipo_paciente, intubado, neumonia, edad, embarazo,\n",
        "       diabetes, epoc, asma, inmusupr,\n",
        "        hipertension, otra_com, cardiovascular, obesidad,\n",
        "        renal_cronica, tabaquismo, otro_caso, toma_muestra_lab,\n",
        "        resultado_lab, toma_muestra_antigeno, resultado_antigeno, uci, dias_hospitalizacion, dias_sintomas\n",
        "        ]], columns=[ 'TIPO_PACIENTE', 'INTUBADO', 'NEUMONIA', 'EDAD', 'EMBARAZO','DIABETES', 'EPOC',\n",
        "        'ASMA', 'INMUSUPR','HIPERTENSION', 'OTRA_COM', 'CARDIOVASCULAR', 'OBESIDAD','RENAL_CRONICA',\n",
        "        'TABAQUISMO', 'OTRO_CASO', 'TOMA_MUESTRA_LAB','RESULTADO_LAB', 'TOMA_MUESTRA_ANTIGENO',\n",
        "        'RESULTADO_ANTIGENO','UCI', 'DIAS_HOSPITALIZACION', 'DIAS_SINTOMAS'])\n",
        "\n",
        "    prediction = clf.predict(input_data)\n",
        "\n",
        "    prediction=prediction.item()\n",
        "\n",
        "    if(prediction == 1.0):\n",
        "      prediction= 'CASO DE COVID-19 CONFIRMADO POR ASOCIACIÓN CLÍNICA EPIDEMIOLÓGICA'\n",
        "    elif(prediction == 2.0):\n",
        "      prediction= 'CASO DE COVID-19 CONFIRMADO POR COMITÉ DE  DICTAMINACIÓN'\n",
        "    elif(prediction == 3.0):\n",
        "      prediction= 'CASO DE SARS-COV-2  CONFIRMADO'\n",
        "    elif(prediction == 4.0):\n",
        "      prediction= 'INVÁLIDO POR LABORATORIO'\n",
        "    elif(prediction == 5.0):\n",
        "      prediction= 'NO REALIZADO POR LABORATORIO'\n",
        "    elif(prediction == 6.0):\n",
        "      prediction= 'CASO SOSPECHOSO'\n",
        "    elif(prediction == 7.0):\n",
        "      prediction= 'NEGATIVO A SARS-COV-2'\n",
        "    return prediction\n",
        "\n",
        "\n",
        "\n",
        "\n",
        "gr.Row\n",
        "inputs = [\n",
        "    gr.Radio(choices=['AMBULATORIO', 'HOSPITALIZADO'], label='Tipo de Paciente'),\n",
        "    gr.Radio(choices=['SI', 'NO', 'NO APLICA', 'SE IGNORA', 'NO ESPECIFICADO'], label='Intubado'),\n",
        "    gr.Radio(choices=['SI', 'NO', 'NO APLICA', 'SE IGNORA', 'NO ESPECIFICADO'], label='Neumonía'),\n",
        "    gr.Slider(minimum=0, maximum=120, value=30, label='Edad'),\n",
        "    gr.Radio(choices=['SI', 'NO', 'NO APLICA', 'SE IGNORA', 'NO ESPECIFICADO'], label='Embarazo'),\n",
        "    gr.Radio(choices=['SI', 'NO','SE IGNORA'], label='Diabetes'),\n",
        "    gr.Radio(choices=['SI', 'NO','SE IGNORA'], label='EPOC'),\n",
        "    gr.Radio(choices=['SI', 'NO','SE IGNORA'], label='Asma'),\n",
        "    gr.Radio(choices=['SI', 'NO','SE IGNORA'], label='Inmunosupresión'),\n",
        "    gr.Radio(choices=['SI', 'NO','SE IGNORA'], label='Hipertensión'),\n",
        "    gr.Radio(choices=['SI', 'NO','SE IGNORA'], label='Otra Comorbilidad'),\n",
        "    gr.Radio(choices=['SI', 'NO','SE IGNORA'], label='Cardiovascular'),\n",
        "    gr.Radio(choices=['SI', 'NO','SE IGNORA'], label='Obesidad'),\n",
        "    gr.Radio(choices=['SI', 'NO','SE IGNORA'], label='Enfermedad Renal Crónica'),\n",
        "    gr.Radio(choices=['SI', 'NO','SE IGNORA'], label='Tabaquismo'),\n",
        "    gr.Radio(choices=['SI', 'NO','SE IGNORA'], label='Contacto con otro caso'),\n",
        "    gr.Radio(choices=['SI', 'NO','SE IGNORA'], label='Toma de muestra de laboratorio'),\n",
        "    gr.Radio(choices=['POSITIVO A SARS-COV-2','NEGATIVO A SARS-COV-2','NO RESULTADO PENDIENTE','RESULTADO NO ADECUADO', 'NO APLICA'], label='Resultado de laboratorio'),\n",
        "    gr.Radio(choices=['SI', 'NO','SE IGNORA'], label='Toma de muestra de antígeno'),\n",
        "    gr.Radio(choices=['POSITIVO A SARS-COV-2','NEGATIVO A SARS-COV-2', 'NO APLICA'], label='Resultado de antígeno'),\n",
        "    gr.Radio(choices=['SI', 'NO', 'NO APLICA', 'SE IGNORA', 'NO ESPECIFICADO'], label='UCI'),\n",
        "    gr.Number(label='Días de Hospitalización',value=0),\n",
        "    gr.Number(label='Días con Síntomas',value=0),\n",
        "]\n",
        "\n",
        "# Crear componente de salida para Gradio\n",
        "outputs = gr.Textbox(label=\"Predicción\")\n",
        "\n",
        "# Crear la interfaz de Gradio\n",
        "demo = gr.Interface(fn=predict, inputs=inputs, outputs=outputs)\n",
        "\n",
        "# Ejecutar la aplicación web\n",
        "if __name__ == \"__main__\":\n",
        "    demo.launch(show_api=False,debug=True)"
      ],
      "metadata": {
        "colab": {
          "base_uri": "https://localhost:8080/",
          "height": 660
        },
        "id": "Kf5w02QF0mBJ",
        "outputId": "f0fb2061-0d15-4cf2-9da7-24e8951eb6c9"
      },
      "execution_count": 21,
      "outputs": [
        {
          "output_type": "stream",
          "name": "stdout",
          "text": [
            "Setting queue=True in a Colab notebook requires sharing enabled. Setting `share=True` (you can turn this off by setting `share=False` in `launch()` explicitly).\n",
            "\n",
            "Colab notebook detected. This cell will run indefinitely so that you can see errors and logs. To turn off, set debug=False in launch().\n",
            "Running on public URL: https://e20567999a81e71f98.gradio.live\n",
            "\n",
            "This share link expires in 72 hours. For free permanent hosting and GPU upgrades, run `gradio deploy` from Terminal to deploy to Spaces (https://huggingface.co/spaces)\n"
          ]
        },
        {
          "output_type": "display_data",
          "data": {
            "text/plain": [
              "<IPython.core.display.HTML object>"
            ],
            "text/html": [
              "<div><iframe src=\"https://e20567999a81e71f98.gradio.live\" width=\"100%\" height=\"500\" allow=\"autoplay; camera; microphone; clipboard-read; clipboard-write;\" frameborder=\"0\" allowfullscreen></iframe></div>"
            ]
          },
          "metadata": {}
        },
        {
          "output_type": "stream",
          "name": "stdout",
          "text": [
            "Keyboard interruption in main thread... closing server.\n",
            "Killing tunnel 127.0.0.1:7860 <> https://e20567999a81e71f98.gradio.live\n"
          ]
        }
      ]
    }
  ]
}